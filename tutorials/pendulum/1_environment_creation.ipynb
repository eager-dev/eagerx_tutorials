{
 "cells": [
  {
   "cell_type": "markdown",
   "id": "65b4e05a",
   "metadata": {},
   "source": [
    "# Tutorial 1: Environment Creation and Training\n",
    "\n",
    "In this tutorial, we will show a simple example of how to create a gym environment using [EAGERx](https://eagerx.readthedocs.io/en/master/).\n",
    "Also, we will use this environment to train a policy using [Stable Baselines 3](https://stable-baselines3.readthedocs.io/en/master/).\n",
    "\n",
    "The following will be covered:\n",
    "- Creating a [Graph](https://eagerx.readthedocs.io/en/master/guide/api_reference/graph/graph.html) with an [Object](https://eagerx.readthedocs.io/en/master/guide/api_reference/object/index.html)\n",
    "- How to use this [Graph](https://eagerx.readthedocs.io/en/master/guide/api_reference/graph/graph.html) and a [Bridge](https://eagerx.readthedocs.io/en/master/guide/api_reference/bridge/index.html) to create an [Eagerx Environment](https://eagerx.readthedocs.io/en/master/guide/api_reference/env/index.html)\n",
    "- How to train a policy with the [EAGERx Environment](https://eagerx.readthedocs.io/en/master/guide/api_reference/env/index.html)\n",
    "\n",
    "In the remainder of this tutorial we will go more into detail on these concepts.\n",
    "\n",
    "\n",
    "## Pendulum Swing-up\n",
    "\n",
    "We will create an environment for solving the classic control problem of swinging up an underactuated pendulum, very similar to the [Pendulum-v0 environment](https://gym.openai.com/envs/Pendulum-v0/).\n",
    "Our goal is to swing up this pendulum to the upright position and keep it there, while minimizing the velocity of the pendulum and the input voltage.\n",
    "\n",
    "Since the dynamics of a pendulum actuated by a DC motor are well known, we can simulate the pendulum by integrating the corresponding ordinary differential equations (ODEs):\n",
    "\n",
    "\n",
    "$\\mathbf{x} = \\begin{bmatrix} \\theta \\\\ \\dot{\\theta} \\end{bmatrix} \\\\ \\dot{\\mathbf{x}} = \\begin{bmatrix} \\dot{\\theta} \\\\ \\frac{1}{J}(\\frac{K}{R}u - mgl \\sin{\\theta} - b \\dot{\\theta} - \\frac{K^2}{R}\\dot{\\theta})\\end{bmatrix}$\n",
    "\n",
    "with $\\theta$ the angle w.r.t. upright position, $\\dot{\\theta}$ the angular velocity, $u$ the input voltage, $J$ the inertia, $m$ the mass, $g$ the gravitational constant, $l$ the length of the pendulum, $b$ the motor viscous friction constant, $K$ the motor constant and $R$ the electric resistance.\n",
    "\n",
    "<img src=\"./figures/pendulum.GIF\" width=\"480\" />"
   ]
  },
  {
   "cell_type": "markdown",
   "id": "74487e37-a1bc-4640-a9da-6f6cf27b4519",
   "metadata": {},
   "source": [
    "## Notebook Setup\n",
    "\n",
    "In order to be able to run the code, we need to install the *eagerx_tutorials* package and ROS."
   ]
  },
  {
   "cell_type": "code",
   "execution_count": 1,
   "id": "b7485878-73c8-43fc-8b9a-a8fc9d8e1775",
   "metadata": {},
   "outputs": [
    {
     "name": "stdout",
     "output_type": "stream",
     "text": [
      "Not running on CoLab.\n",
      "Execute ROS commands as \"!...\".\n",
      "ROS noetic available.\n"
     ]
    }
   ],
   "source": [
    "try:\n",
    "    import eagerx_tutorials\n",
    "except ImportError:\n",
    "    !{\"echo 'Installing eagerx-tutorials with pip.' && pip install eagerx-tutorials >> /tmp/eagerx_install.txt 2>&1\"}\n",
    "if 'google.colab' in str(get_ipython()):\n",
    "    !{\"curl 'https://raw.githubusercontent.com/eager-dev/eagerx_tutorials/master/scripts/setup_colab.sh' > ~/setup_colab.sh\"}\n",
    "    !{\"bash ~/setup_colab.sh\"}\n",
    "\n",
    "# Setup interactive notebook\n",
    "# Required in interactive notebooks only.\n",
    "from eagerx_tutorials import helper\n",
    "helper.setup_notebook()\n",
    "env = None\n",
    "\n",
    "# Allows reloading of registered entites from changed files\n",
    "# Required in interactive notebooks only.\n",
    "%reload_ext autoreload\n",
    "%autoreload 1"
   ]
  },
  {
   "cell_type": "markdown",
   "id": "5627eb51",
   "metadata": {},
   "source": [
    "## Let's get started\n",
    "\n",
    "First we will import EAGERx and initialize it.\n",
    "As mentioned before, EAGERx makes use of ROS functionality for communication and during initialization a ROS master is started if there isn't one running already."
   ]
  },
  {
   "cell_type": "code",
   "execution_count": 2,
   "id": "f0faf969",
   "metadata": {
    "collapsed": false,
    "jupyter": {
     "outputs_hidden": false
    },
    "pycharm": {
     "name": "#%%\n"
    }
   },
   "outputs": [
    {
     "name": "stdout",
     "output_type": "stream",
     "text": [
      "... logging to /home/jelle/.ros/log/8a5aba50-cab1-11ec-9a64-612c3b44983f/roslaunch-jelle-Alienware-m15-R4-18483.log\n",
      "\u001B[1mstarted roslaunch server http://145.94.217.36:45875/\u001B[0m\n",
      "ros_comm version 1.15.14\n",
      "\n",
      "\n",
      "SUMMARY\n",
      "========\n",
      "\n",
      "PARAMETERS\n",
      " * /rosdistro: noetic\n",
      " * /rosversion: 1.15.14\n",
      "\n",
      "NODES\n",
      "\n",
      "auto-starting new master\n",
      "\u001B[1mprocess[master]: started with pid [18537]\u001B[0m\n",
      "\u001B[1mROS_MASTER_URI=http://localhost:11311\u001B[0m\n",
      "\u001B[1msetting /run_id to 8a5aba50-cab1-11ec-9a64-612c3b44983f\u001B[0m\n",
      "\u001B[1mprocess[rosout-1]: started with pid [18562]\u001B[0m\n",
      "started core service [/rosout]\n"
     ]
    },
    {
     "data": {
      "text/plain": [
       "<roslaunch.parent.ROSLaunchParent at 0x7f97dbce6610>"
      ]
     },
     "execution_count": 2,
     "metadata": {},
     "output_type": "execute_result"
    }
   ],
   "source": [
    "import eagerx\n",
    "# Initialize eagerx (starts roscore if not already started.)\n",
    "eagerx.initialize(\"eagerx_core\")"
   ]
  },
  {
   "cell_type": "markdown",
   "id": "701e0a93",
   "metadata": {},
   "source": [
    "An `Object` is an entity that has inputs (sensors), outputs (actuators) and states (that can be reset at the beginning of an episode).\n",
    "\n",
    "We are going to create one object (the pendulum). For this first tutorial, we don't want to go into details too much and start with an existing object.\n",
    "If you are interested, you can find its definition [here](https://github.com/eager-dev/eagerx_tutorials/blob/master/eagerx_tutorials/pendulum/objects.py).\n",
    "Note that we import the pendulum.\n",
    "While this might look like an unused import, it is not.\n",
    "During the import, the pendulum object is registered and we can therefore make it based on its ID, i.e. *Pendulum*.\n",
    "\n",
    "Before making the object, we will first obtain some info on the *Pendulum*, such that we know with what arguments we should make it."
   ]
  },
  {
   "cell_type": "code",
   "execution_count": 3,
   "id": "eeaac748",
   "metadata": {},
   "outputs": [
    {
     "name": "stdout",
     "output_type": "stream",
     "text": [
      "Registered entity_id=`Pendulum`:\n",
      "   entity_type: `Object`\n",
      "   module: `eagerx_tutorials.pendulum.objects`\n",
      "   file: `/home/jelle/eagerx_dev/eagerx_tutorials/eagerx_tutorials/pendulum/objects.py`\n",
      "\n",
      "Supported bridges:\n",
      " - OdeBridge\n",
      "\n",
      "Make this spec with (use `entity_id: str = \"Pendulum\"`):\n",
      "   spec = Object.make(entity_id: str, name: str, actuators: List[str] = None, sensors: List[str] = None, states: List[str] = None, rate: float = 30.0, render_shape: List[int] = None)\n",
      "\n",
      "class Pendulum(Object):\n",
      "   spec(spec: eagerx.core.specs.ObjectSpec, name: str, actuators: List[str] = None, sensors: List[str] = None, states: List[str] = None, rate: float = 30.0, render_shape: List[int] = None):\n",
      "      docs:\n",
      "         Object spec of Pendulum\n",
      "\n",
      "   agnostic(spec: eagerx.core.specs.ObjectSpec, rate: float):\n",
      "      config:\n",
      "       - render_shape: [480, 480]\n",
      "      sensors:\n",
      "       - theta: <class 'std_msgs.msg._Float32.Float32'>\n",
      "       - dtheta: <class 'std_msgs.msg._Float32.Float32'>\n",
      "       - image: <class 'sensor_msgs.msg._Image.Image'>\n",
      "       - u: <class 'std_msgs.msg._Float32MultiArray.Float32MultiArray'>\n",
      "      actuators:\n",
      "       - u: <class 'std_msgs.msg._Float32MultiArray.Float32MultiArray'>\n",
      "      engine_states:\n",
      "       - model_state: <class 'std_msgs.msg._Float32MultiArray.Float32MultiArray'>\n",
      "       - model_parameters: <class 'std_msgs.msg._Float32MultiArray.Float32MultiArray'>\n",
      "      docs:\n",
      "         Agnostic definition of the Pendulum.\n",
      "\n",
      "                 Sensors\n",
      "                 theta: angle of the pendulum wrt upward position\n",
      "                 dtheta: angular velocity of the pendulum\n",
      "                 image: render of pendulum system\n",
      "                 u: DC motor voltage\n",
      "\n",
      "                 Actuators\n",
      "                 u: DC motor voltage\n",
      "\n",
      "                 States\n",
      "                 model_state: allows resetting the angle and angular velocity\n",
      "                 model_parameters: allows resetting ODE parameters [J, m, l, b, K, R]\n",
      "\n",
      "                 Config\n",
      "                 render_shape: shape of render window [height, width]\n",
      "        \n",
      "\n",
      "\n"
     ]
    }
   ],
   "source": [
    "import eagerx_tutorials.pendulum  # Registers Pendulum\n",
    "\n",
    "eagerx.Object.info(\"Pendulum\")"
   ]
  },
  {
   "cell_type": "markdown",
   "id": "94acafd2-ea83-4bfe-aeb1-76fa251fec47",
   "metadata": {},
   "source": [
    "We see that the `eagerx.Object.info(\"Pendulum\")` provides us information on the *Pendulum* object.\n",
    "It has four sensors (*theta*, *dtheta*, *image*, *u*), one actuator (*u*) and two states (*model_state*, *model_parameters*).\n",
    "Here *theta*, *dtheta* and *u* correspond to $\\theta$, $\\dot{\\theta}$ and $u$, respectively.\n",
    "For now, we are only interested in how to make this object, other information will be covered in later tutorials.\n",
    "We can make the *Pendulum* object with the `eagerx.Object.make` method with the required arguments *entity_id* and (a unique) *name*.\n",
    "Furthermore, we will specify which actuators, sensors and states we will use:"
   ]
  },
  {
   "cell_type": "code",
   "execution_count": 4,
   "id": "da5a5a0e-6502-4ac1-9b27-c3e207a8c47b",
   "metadata": {},
   "outputs": [],
   "source": [
    "# Make pendulum\n",
    "pendulum = eagerx.Object.make(\"Pendulum\", \"pendulum\", actuators=[\"u\"], sensors=[\"theta\", \"dtheta\", \"image\"], states=[\"model_state\"])"
   ]
  },
  {
   "cell_type": "markdown",
   "id": "5d2f0c2d",
   "metadata": {},
   "source": [
    "Next, we create a [Graph](https://eagerx.readthedocs.io/en/master/guide/api_reference/graph/graph.html) and add the pendulum to it.\n",
    "\n",
    "The graph describes the interconnect of nodes and objects.\n",
    "In this way, the creation of an environment becomes modular.\n",
    "This allows users to create an implementation for nodes and objects once, and easily create new environments by reusing these implementations.\n",
    "Also, this allows to construct complex environments using nodes and objects as basic building blocks.\n",
    "\n",
    "After adding the pendulum to the graph, we will connect the actuator *u* to a new action called *voltage*.\n",
    "We will connect the sensors *theta* and *dtheta* to the observations *angle* and *angular_velocity*, respectively.\n",
    "In this way, the agent will be able to send actions to control $u$ of the pendulum and observe $\\theta$ and $\\dot{\\theta}$.\n",
    "\n",
    "Finally, we will also render the *image* sensor in order to visualize the pendulum.\n",
    "More detailed information on rendering is covered in another tutorial."
   ]
  },
  {
   "cell_type": "code",
   "execution_count": 5,
   "id": "2686fa8a",
   "metadata": {},
   "outputs": [],
   "source": [
    "# Define rate (depends on rate of ode)\n",
    "rate = 30.0\n",
    "\n",
    "# Initialize empty graph\n",
    "graph = eagerx.Graph.create()\n",
    "\n",
    "# Add pendulum to the graph\n",
    "graph.add(pendulum)\n",
    "\n",
    "# Connect the pendulum to an action and observation\n",
    "graph.connect(action=\"voltage\", target=pendulum.actuators.u)\n",
    "graph.connect(source=pendulum.sensors.theta, observation=\"angle\")\n",
    "graph.connect(source=pendulum.sensors.dtheta, observation=\"angular_velocity\")\n",
    "\n",
    "# Render image\n",
    "graph.render(source=pendulum.sensors.image, rate=rate)"
   ]
  },
  {
   "cell_type": "markdown",
   "id": "99f0b265",
   "metadata": {},
   "source": [
    "It is also possible to inspect the graph using the eagerx-gui package.\n",
    "It can be installed as follows:\n",
    "```bash\n",
    "pip3 install eagerx-gui\n",
    "```\n",
    "Jupyter notebooks have limited support for interactive applications, so we cannot open the GUI here.\n",
    "But if we were to run\n",
    "```python\n",
    "graph.gui()\n",
    "```\n",
    "The ouput would be as follows:\n",
    "\n",
    "<img src=\"./figures/tutorial_1_gui.svg\" width=720>\n",
    "\n",
    "Here we see that the actions of the agent are outputs of *env/actions* and that the observations of the agent are inputs of *env/observations*.\n",
    "Also, we could render output by connecting to *env/render*, which will be covered in another tutorial.\n",
    "Note that *env/actions*, *env/observations* and *env/render* represent connections of the `Graph` to the environment.\n",
    "They are split up in the GUI as nodes for visualization purposes."
   ]
  },
  {
   "cell_type": "markdown",
   "id": "f8410ce6",
   "metadata": {},
   "source": [
    "Next, we will create the [Bridge](https://eagerx.readthedocs.io/en/master/guide/api_reference/bridge/index.html).\n",
    "Since objects can have implementions for multiple physics engines and real systems, we need to initialize the appropriate bridge.\n",
    "In our case, we will use the [OdeBridge](https://github.com/eager-dev/eagerx_ode), which allows to simulate systems based on ordinary differential equations (ODEs).\n",
    "In other tutorials we will go more into detail on the bridge and how you can create your own bridge."
   ]
  },
  {
   "cell_type": "code",
   "execution_count": 6,
   "id": "badb2076",
   "metadata": {},
   "outputs": [],
   "source": [
    "import eagerx_ode  # Registers OdeBridge\n",
    "\n",
    "# Define bridges\n",
    "bridge = eagerx.Bridge.make(\"OdeBridge\", rate=rate)"
   ]
  },
  {
   "cell_type": "markdown",
   "id": "d0c48b43",
   "metadata": {},
   "source": [
    "Just like in normal Gym environments, we will create a step function in which we will calculate the reward at each time step and check for termination conditions.\n",
    "Our goal is to stabilize the pendulum in upright position, while minimizing the input voltage that is applied.\n",
    "Therefore we choose a reward function that is a weighted sum of $\\theta^2$, $\\dot{\\theta^2}$ and $u^2$. \n",
    "\n",
    "Note that we can obtain the values of the actions and observations using the keys *voltage*, *angle* and *angular_velocity*, which correspond to the names of the actions and observations above in the screenshot of the GUI."
   ]
  },
  {
   "cell_type": "code",
   "execution_count": 7,
   "id": "382dd9b5",
   "metadata": {},
   "outputs": [],
   "source": [
    "import numpy as np\n",
    "from typing import Dict\n",
    "\n",
    "# Define step function\n",
    "def step_fn(prev_obs: Dict[str, np.ndarray], obs: Dict[str, np.ndarray], action: Dict[str, np.ndarray], steps: int):\n",
    "    \n",
    "    # Get angle and angular velocity\n",
    "    # Take first element because of window size (covered in other tutorial)\n",
    "    th = obs[\"angle\"][0] \n",
    "    thdot = obs[\"angular_velocity\"][0]\n",
    "    \n",
    "    # Convert from numpy array to float\n",
    "    u = float(action[\"voltage\"])\n",
    "    \n",
    "    # Normalize angle so it lies in [-pi, pi]\n",
    "    th -= 2 * np.pi * np.floor((th + np.pi) / (2 * np.pi))\n",
    "    \n",
    "    # Calculate cost\n",
    "    # Penalize angle error, angular velocity and input voltage\n",
    "    cost = th**2 + 0.1 * thdot**2 + 0.001 * u**2  \n",
    "    \n",
    "    # Determine when is the episode over\n",
    "    # currently just a timeout after 100 steps\n",
    "    done = steps > 100\n",
    "    \n",
    "    # Set info, tell the algorithm the termination was due to a timeout\n",
    "    # (the episode was truncated)\n",
    "    info = {\"TimeLimit.truncated\": steps > 100}\n",
    "    \n",
    "    return obs, -cost, done, info"
   ]
  },
  {
   "cell_type": "markdown",
   "id": "06ae7093",
   "metadata": {},
   "source": [
    "Having created a graph, a bridge and a step function, we can now construct the EAGERx environment.\n",
    "We can use it like any other Gym environment.\n",
    "Here we will now train a policy to swing up the pendulum using the Soft Actor Critic (SAC) reinforcement learning algorithm implementation from [Stable Baselines 3](https://stable-baselines3.readthedocs.io/en/master/)."
   ]
  },
  {
   "cell_type": "code",
   "execution_count": 8,
   "id": "19aaa2b8",
   "metadata": {},
   "outputs": [
    {
     "name": "stdout",
     "output_type": "stream",
     "text": [
      "[INFO] [1651562443.303998]: Node \"/PendulumEnv/env/supervisor\" initialized.\n",
      "[INFO] [1651562443.448747]: Node \"/PendulumEnv/bridge\" initialized.\n",
      "[INFO] [1651562443.646331]: Node \"/PendulumEnv/environment\" initialized.\n",
      "[INFO] [1651562443.721903]: Node \"/PendulumEnv/env/render\" initialized.\n",
      "[INFO] [1651562443.826245]: Node \"/PendulumEnv/pendulum/theta\" initialized.\n",
      "[INFO] [1651562443.850971]: Node \"/PendulumEnv/pendulum/dtheta\" initialized.\n",
      "[INFO] [1651562443.890103]: START RENDERING!\n",
      "Using cpu device\n",
      "Wrapping the env with a `Monitor` wrapper\n",
      "Wrapping the env in a DummyVecEnv.\n",
      "[INFO] [1651562443.916023]: Adding object \"pendulum\" of type \"Pendulum\" to the simulator.\n",
      "[INFO] [1651562443.930199]: Node \"/PendulumEnv/pendulum/x\" initialized.\n",
      "[INFO] [1651562443.941389]: [pendulum/image] START RENDERING!\n",
      "[INFO] [1651562443.947704]: Node \"/PendulumEnv/pendulum/image\" initialized.\n",
      "[INFO] [1651562443.960112]: Node \"/PendulumEnv/pendulum/pendulum_actuator\" initialized.\n",
      "[INFO] [1651562443.972254]: Node \"/PendulumEnv/pendulum/u\" initialized.\n",
      "[INFO] [1651562444.023590]: Waiting for nodes \"['pendulum/image', 'pendulum/pendulum_actuator', 'pendulum/u']\" to be initialized.\n",
      "[INFO] [1651562444.463799]: Nodes initialized.\n",
      "[INFO] [1651562444.535006]: Pipelines initialized.\n",
      "---------------------------------\n",
      "| rollout/           |          |\n",
      "|    ep_len_mean     | 101      |\n",
      "|    ep_rew_mean     | -948     |\n",
      "| time/              |          |\n",
      "|    episodes        | 4        |\n",
      "|    fps             | 71       |\n",
      "|    time_elapsed    | 5        |\n",
      "|    total_timesteps | 404      |\n",
      "| train/             |          |\n",
      "|    actor_loss      | 17.8     |\n",
      "|    critic_loss     | 10.2     |\n",
      "|    ent_coef        | 0.916    |\n",
      "|    ent_coef_loss   | -0.116   |\n",
      "|    learning_rate   | 0.0003   |\n",
      "|    n_updates       | 303      |\n",
      "---------------------------------\n",
      "---------------------------------\n",
      "| rollout/           |          |\n",
      "|    ep_len_mean     | 101      |\n",
      "|    ep_rew_mean     | -915     |\n",
      "| time/              |          |\n",
      "|    episodes        | 8        |\n",
      "|    fps             | 69       |\n",
      "|    time_elapsed    | 11       |\n",
      "|    total_timesteps | 808      |\n",
      "| train/             |          |\n",
      "|    actor_loss      | 31       |\n",
      "|    critic_loss     | 9.61     |\n",
      "|    ent_coef        | 0.832    |\n",
      "|    ent_coef_loss   | -0.193   |\n",
      "|    learning_rate   | 0.0003   |\n",
      "|    n_updates       | 707      |\n",
      "---------------------------------\n",
      "---------------------------------\n",
      "| rollout/           |          |\n",
      "|    ep_len_mean     | 101      |\n",
      "|    ep_rew_mean     | -907     |\n",
      "| time/              |          |\n",
      "|    episodes        | 12       |\n",
      "|    fps             | 68       |\n",
      "|    time_elapsed    | 17       |\n",
      "|    total_timesteps | 1212     |\n",
      "| train/             |          |\n",
      "|    actor_loss      | 44.7     |\n",
      "|    critic_loss     | 4.64     |\n",
      "|    ent_coef        | 0.742    |\n",
      "|    ent_coef_loss   | -0.385   |\n",
      "|    learning_rate   | 0.0003   |\n",
      "|    n_updates       | 1111     |\n",
      "---------------------------------\n",
      "---------------------------------\n",
      "| rollout/           |          |\n",
      "|    ep_len_mean     | 101      |\n",
      "|    ep_rew_mean     | -889     |\n",
      "| time/              |          |\n",
      "|    episodes        | 16       |\n",
      "|    fps             | 68       |\n",
      "|    time_elapsed    | 23       |\n",
      "|    total_timesteps | 1616     |\n",
      "| train/             |          |\n",
      "|    actor_loss      | 59.7     |\n",
      "|    critic_loss     | 3.83     |\n",
      "|    ent_coef        | 0.655    |\n",
      "|    ent_coef_loss   | -0.481   |\n",
      "|    learning_rate   | 0.0003   |\n",
      "|    n_updates       | 1515     |\n",
      "---------------------------------\n",
      "[INFO] [1651562470.290369]: [PendulumEnv][/PendulumEnv/bridge] Shutting down.\n",
      "[INFO] [1651562470.291187]: [/PendulumEnv/bridge] Shutting down '/PendulumEnv/pendulum/x'.\n",
      "[INFO] [1651562470.291922]: [/PendulumEnv/pendulum/x] Shutting down.\n",
      "[INFO] [1651562470.341862]: [/PendulumEnv/bridge] Shutting down '/PendulumEnv/pendulum/image'.\n",
      "[INFO] [1651562470.342609]: [/PendulumEnv/pendulum/image] Shutting down.\n",
      "[INFO] [1651562470.343375]: [/PendulumEnv/bridge] Shutting down '/PendulumEnv/pendulum/pendulum_actuator'.\n",
      "[INFO] [1651562470.343929]: [/PendulumEnv/pendulum/pendulum_actuator] Shutting down.\n",
      "[INFO] [1651562470.344609]: [/PendulumEnv/bridge] Shutting down '/PendulumEnv/pendulum/u'.\n",
      "[INFO] [1651562470.345255]: [/PendulumEnv/pendulum/u] Shutting down.\n",
      "[INFO] [1651562470.345999]: [/PendulumEnv/bridge] Shutting down.\n",
      "[INFO] [1651562470.347328]: [PendulumEnv][/PendulumEnv/env/render] Shutting down.\n",
      "[INFO] [1651562470.347893]: [/PendulumEnv/env/render] Shutting down.\n",
      "[INFO] [1651562470.350011]: [PendulumEnv][/PendulumEnv/pendulum/theta] Shutting down.\n",
      "[INFO] [1651562470.350553]: [/PendulumEnv/pendulum/theta] Shutting down.\n",
      "[INFO] [1651562470.351172]: [PendulumEnv][/PendulumEnv/pendulum/dtheta] Shutting down.\n",
      "[INFO] [1651562470.351760]: [/PendulumEnv/pendulum/dtheta] Shutting down.\n",
      "[INFO] [1651562470.352371]: [/PendulumEnv/env/supervisor] Shutting down.\n",
      "[INFO] [1651562470.355477]: [/PendulumEnv/environment] Shutting down.\n",
      "[INFO] [1651562470.357374]: Parameters under namespace \"/PendulumEnv\" deleted.\n"
     ]
    }
   ],
   "source": [
    "import stable_baselines3 as sb\n",
    "from eagerx.wrappers import Flatten\n",
    "\n",
    "# Initialize Environment\n",
    "env = eagerx.EagerxEnv(name=\"PendulumEnv\", rate=rate, graph=graph, bridge=bridge, step_fn=step_fn)\n",
    "\n",
    "# Toggle render\n",
    "env.render(\"human\")\n",
    "\n",
    "# Stable Baselines3 expects flattened actions & observations\n",
    "# Convert observation and action space from Dict() to Box()\n",
    "env = Flatten(env)\n",
    "\n",
    "# Initialize learner\n",
    "model = sb.SAC(\"MlpPolicy\", env, verbose=1)\n",
    "\n",
    "# Train for 1 minute (sim time)\n",
    "model.learn(total_timesteps=int(60 * rate))\n",
    "\n",
    "env.shutdown()"
   ]
  }
 ],
 "metadata": {
  "kernelspec": {
   "display_name": "Python 3 (ipykernel)",
   "language": "python",
   "name": "python3"
  },
  "language_info": {
   "codemirror_mode": {
    "name": "ipython",
    "version": 3
   },
   "file_extension": ".py",
   "mimetype": "text/x-python",
   "name": "python",
   "nbconvert_exporter": "python",
   "pygments_lexer": "ipython3",
   "version": "3.8.10"
  }
 },
 "nbformat": 4,
 "nbformat_minor": 5
}